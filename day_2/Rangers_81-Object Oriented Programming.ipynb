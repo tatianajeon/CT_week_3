{
 "cells": [
  {
   "cell_type": "markdown",
   "metadata": {},
   "source": [
    "# Object-Oriented-Programming (OOP)"
   ]
  },
  {
   "cell_type": "markdown",
   "metadata": {},
   "source": [
    "## Tasks Today:\n",
    "\n",
    "   \n",
    "\n",
    "1) <b>Creating a Class (Initializing/Declaring)</b> <br>\n",
    "2) <b>Using a Class (Instantiating)</b> <br>\n",
    " &nbsp;&nbsp;&nbsp;&nbsp; a) Creating One Instance <br>\n",
    " &nbsp;&nbsp;&nbsp;&nbsp; b) Creating Multiple Instances <br>\n",
    " &nbsp;&nbsp;&nbsp;&nbsp; c) In-Class Exercise #1 - Create a Class 'Car' and instantiate three different makes of cars <br>\n",
    "3) <b>The \\__init\\__() Method</b> <br>\n",
    " &nbsp;&nbsp;&nbsp;&nbsp; a) The 'self' Attribute <br>\n",
    "4) <b>Class Attributes</b> <br>\n",
    " &nbsp;&nbsp;&nbsp;&nbsp; a) Initializing Attributes <br>\n",
    " &nbsp;&nbsp;&nbsp;&nbsp; b) Setting an Attribute Outside of the \\__init\\__() Method <br>\n",
    " &nbsp;&nbsp;&nbsp;&nbsp; c) Setting Defaults for Attributes <br>\n",
    " &nbsp;&nbsp;&nbsp;&nbsp; d) Accessing Class Attributes <br>\n",
    " &nbsp;&nbsp;&nbsp;&nbsp; e) Changing Class Attributes <br>\n",
    " &nbsp;&nbsp;&nbsp;&nbsp; f) In-Class Exercise #2 - Add a color and wheels attribute to your 'Car' class <br>\n",
    "5) <b>Class Methods</b> <br>\n",
    " &nbsp;&nbsp;&nbsp;&nbsp; a) Creating <br>\n",
    " &nbsp;&nbsp;&nbsp;&nbsp; b) Calling <br>\n",
    " &nbsp;&nbsp;&nbsp;&nbsp; c) Modifying an Attribute's Value Through a Method <br>\n",
    " &nbsp;&nbsp;&nbsp;&nbsp; d) Incrementing an Attribute's Value Through a Method <br>\n",
    " &nbsp;&nbsp;&nbsp;&nbsp; e) In-Class Exercise #3 - Add a method that prints the cars color and wheel number, then call them <br>\n",
    "6) <b>Inheritance</b> <br>\n",
    " &nbsp;&nbsp;&nbsp;&nbsp; a) Syntax for Inheriting from a Parent Class <br>\n",
    " &nbsp;&nbsp;&nbsp;&nbsp; b) The \\__init\\__() Method for a Child Class (super()) <br>\n",
    " &nbsp;&nbsp;&nbsp;&nbsp; c) Defining Attributes and Methods for the Child Class <br>\n",
    " &nbsp;&nbsp;&nbsp;&nbsp; d) Method Overriding <br>\n",
    " &nbsp;&nbsp;&nbsp;&nbsp; e) In-Class Exercise #4 - Create a class 'Ford' that inherits from 'Car' class and initialize it as a Blue Ford Explorer with 4 wheels using the super() method <br>\n",
    "7) <b>Classes as Attributes</b> <br>\n",
    "8) <b>Exercises</b> <br>\n",
    " &nbsp;&nbsp;&nbsp;&nbsp; a) Exercise #1 - Turn the shopping cart program from last week into an object-oriented program <br>"
   ]
  },
  {
   "cell_type": "markdown",
   "metadata": {},
   "source": [
    "## Creating a Class (Initializing/Declaring)\n",
    "<p>When creating a class, function, or even a variable you are initializing that object. Initializing and Declaring occur at the same time in Python, whereas in lower level languages you have to declare an object before initializing it. This is the first step in the process of using a class.</p>"
   ]
  },
  {
   "cell_type": "code",
   "execution_count": 2,
   "metadata": {},
   "outputs": [],
   "source": [
    "class Car():\n",
    "    wheels = 4\n",
    "    color = 'blue'"
   ]
  },
  {
   "cell_type": "markdown",
   "metadata": {},
   "source": [
    "## Using a Class (Instantiating)\n",
    "<p>The process of creating a class is called <i>Instantiating</i>. Each time you create a variable of that type of class, it is referred to as an <i>Instance</i> of that class. This is the second step in the process of using a class.</p>"
   ]
  },
  {
   "cell_type": "markdown",
   "metadata": {},
   "source": [
    "##### Creating One Instance"
   ]
  },
  {
   "cell_type": "code",
   "execution_count": 20,
   "metadata": {},
   "outputs": [],
   "source": [
    "ford = Car()\n"
   ]
  },
  {
   "cell_type": "markdown",
   "metadata": {},
   "source": [
    "##### Creating Multiple Instances"
   ]
  },
  {
   "cell_type": "code",
   "execution_count": 5,
   "metadata": {},
   "outputs": [
    {
     "name": "stdout",
     "output_type": "stream",
     "text": [
      "4\n",
      "4\n",
      "blue\n",
      "blue\n"
     ]
    }
   ],
   "source": [
    "mazda = Car()\n",
    "honda = Car()\n",
    "porsche = Car()\n",
    "\n",
    "print(mazda.wheels)\n",
    "print(honda.wheels)\n",
    "print(ford.color)\n",
    "print(porsche.color)"
   ]
  },
  {
   "cell_type": "markdown",
   "metadata": {},
   "source": [
    "##### In-Class Exercise #1 - Create a Class 'Car' and Instantiate three different makes of cars"
   ]
  },
  {
   "cell_type": "code",
   "execution_count": 19,
   "metadata": {},
   "outputs": [
    {
     "name": "stdout",
     "output_type": "stream",
     "text": [
      "white\n",
      "4 wheel drive\n",
      "6\n"
     ]
    }
   ],
   "source": [
    "class Japanese_cars():\n",
    "    drive = '4 wheel drive'\n",
    "    color = 'white'\n",
    "    cylinders = 6\n",
    "\n",
    "subaru = Japanese_cars()\n",
    "toyota = Japanese_cars()\n",
    "honda = Japanese_cars()\n",
    "\n",
    "print(subaru.color)\n",
    "print(honda.drive)\n",
    "print(toyota.cylinders)\n"
   ]
  },
  {
   "cell_type": "markdown",
   "metadata": {},
   "source": [
    "## The \\__init\\__() Method <br>\n",
    "<p>This method is used in almost every created class, and called only once upon the creation of the class instance. This method will initialize all variables needed for the object.</p>"
   ]
  },
  {
   "cell_type": "code",
   "execution_count": 23,
   "metadata": {},
   "outputs": [
    {
     "name": "stdout",
     "output_type": "stream",
     "text": [
      "red\n",
      "4\n",
      "turquoise\n",
      "4\n",
      "4.7L\n",
      "4.7L\n"
     ]
    }
   ],
   "source": [
    "class Car():\n",
    "    ENGINE = '4.7L'  \n",
    "        \n",
    "    def __init__(self, wheels, color):\n",
    "        self.wheels = wheels\n",
    "        self.color = color\n",
    "\n",
    "ford = Car(4, 'red')\n",
    "chevy_lumina = Car(4, 'turquoise')\n",
    "\n",
    "print(ford.color)\n",
    "print(ford.wheels)\n",
    "print(chevy_lumina.color)\n",
    "print(chevy_lumina.wheels)\n",
    "\n",
    "print(ford.ENGINE)\n",
    "print(chevy_lumina.ENGINE)"
   ]
  },
  {
   "cell_type": "markdown",
   "metadata": {},
   "source": [
    "##### The 'self' Attribute <br>\n",
    "<p>This attribute is required to keep track of specific instance's attributes. Without the self attribute, the program would not know how to reference or keep track of an instance's attributes.</p>"
   ]
  },
  {
   "cell_type": "code",
   "execution_count": null,
   "metadata": {},
   "outputs": [],
   "source": [
    "# see above"
   ]
  },
  {
   "cell_type": "markdown",
   "metadata": {},
   "source": [
    "## Class Attributes <br>\n",
    "<p>While variables are inside of a class, they are referred to as attributes and not variables. When someone says 'attribute' you know they're speaking about a class. Attributes can be initialized through the init method, or outside of it.</p>"
   ]
  },
  {
   "cell_type": "markdown",
   "metadata": {},
   "source": [
    "##### Initializing Attributes"
   ]
  },
  {
   "cell_type": "code",
   "execution_count": 39,
   "metadata": {},
   "outputs": [],
   "source": [
    "class Toy():\n",
    "    TYPE = \"Legos\"\n",
    "    \n",
    "    def __init__(self, connect, colors, theme_set, studs, shape, choking_hazard, foot_hazard = True):\n",
    "        self.connect = connect\n",
    "        self.colors = colors\n",
    "        self.theme_set = theme_set\n",
    "        self.studs = studs\n",
    "        self.shape = shape\n",
    "        self.choking_hazard = choking_hazard\n",
    "        self.foot_hazard = foot_hazard   #even though it's a default, have to instantiate\n",
    "        \n",
    "star_wars = Toy(True, 'greyish', 'star wars', 'a lot', 'millenium falcon', True)\n",
    "harry_potter = Toy(True, 'brown', 'harry potter', 'a lot', 'castle', True)\n",
    "      \n",
    "        "
   ]
  },
  {
   "cell_type": "markdown",
   "metadata": {},
   "source": [
    "##### Accessing Class Attributes"
   ]
  },
  {
   "cell_type": "code",
   "execution_count": 41,
   "metadata": {
    "scrolled": true
   },
   "outputs": [
    {
     "name": "stdout",
     "output_type": "stream",
     "text": [
      "greyish\n",
      "castle\n",
      "True\n",
      "True\n",
      "False\n"
     ]
    }
   ],
   "source": [
    "print(star_wars.colors)\n",
    "print(harry_potter.shape)\n",
    "\n",
    "print(star_wars.foot_hazard)\n",
    "print(harry_potter.foot_hazard)\n",
    "\n",
    "star_wars.foot_hazard = False   # if you want to reassign for a specific set you can just print like this\n",
    "print(star_wars.foot_hazard)"
   ]
  },
  {
   "cell_type": "markdown",
   "metadata": {},
   "source": [
    "##### Setting Defaults for Attributes"
   ]
  },
  {
   "cell_type": "code",
   "execution_count": 48,
   "metadata": {},
   "outputs": [
    {
     "name": "stdout",
     "output_type": "stream",
     "text": [
      "Blue\n",
      "Blue\n"
     ]
    }
   ],
   "source": [
    "class Car():\n",
    "    ENGINE = '4.7L'\n",
    "    \n",
    "    def __init__(self, wheels):\n",
    "        self.wheels = wheels\n",
    "        self.color = 'Blue'\n",
    "        \n",
    "honda = Car(4)\n",
    "hummer = Car(6)\n",
    "\n",
    "print(honda.color)\n",
    "print(hummer.color)"
   ]
  },
  {
   "cell_type": "code",
   "execution_count": 58,
   "metadata": {},
   "outputs": [
    {
     "name": "stdout",
     "output_type": "stream",
     "text": [
      "Blue\n",
      "Blue\n"
     ]
    }
   ],
   "source": [
    "class Car():\n",
    "    ENGINE = '4.7L'\n",
    "    \n",
    "    def __init__(self, wheels, color = 'Blue'):\n",
    "        self.wheels = wheels\n",
    "        self.color = color\n",
    "        \n",
    "chevy = Car(4)\n",
    "mazda = Car(4)\n",
    "\n",
    "print(chevy.color)\n",
    "print(honda.color)"
   ]
  },
  {
   "cell_type": "markdown",
   "metadata": {},
   "source": [
    "##### Changing Class Attributes <br>\n",
    "<p>Keep in mind there are global class attributes and then there are attributes only available to each class instance which won't effect other classes.</p>"
   ]
  },
  {
   "cell_type": "code",
   "execution_count": 60,
   "metadata": {},
   "outputs": [
    {
     "name": "stdout",
     "output_type": "stream",
     "text": [
      "before the change: White\n",
      "\n",
      "after the change: White\n",
      "\n",
      "Before the change: 4\n",
      "\n",
      "After the change: 18\n"
     ]
    }
   ],
   "source": [
    "# change the default attribute\n",
    "print(f\"before the change: {chevy.color}\")\n",
    "\n",
    "chevy.color = \"White\"  # reassigning the color\n",
    "print(f\"\\nafter the change: {chevy.color}\")\n",
    "\n",
    "# Change an instantiated attribute\n",
    "print(f\"\\nBefore the change: {mazda.wheels}\")\n",
    "mazda.wheels = 18\n",
    "print(f\"\\nAfter the change: {mazda.wheels}\")"
   ]
  },
  {
   "cell_type": "code",
   "execution_count": null,
   "metadata": {},
   "outputs": [],
   "source": []
  },
  {
   "cell_type": "markdown",
   "metadata": {},
   "source": [
    "##### In-Class Exercise #2 - Add a doors and seats attribute to your 'Car' class then print out two different instances with different doors and seats"
   ]
  },
  {
   "cell_type": "code",
   "execution_count": null,
   "metadata": {},
   "outputs": [],
   "source": [
    "class Cars():\n",
    "    TYPE: 'body'\n",
    "    def __init__(self, seats, doors = 2):\n",
    "        self.seats = seats\n",
    "        self.doors = doors\n",
    "\n",
    "subaru = Cars(5)\n",
    "toyota = Cars(2)\n",
    "print(subaru.seats)\n",
    "print(subaru.doors)\n",
    "print(toyota.seats)\n",
    "print(toyota.doors)\n",
    "        \n",
    "subaru.seats = 3\n",
    "print(subaru.seats)\n",
    "toyota.doors = 4\n",
    "print(toyota.doors)\n",
    "\n"
   ]
  },
  {
   "cell_type": "markdown",
   "metadata": {},
   "source": [
    "## Class Methods <br>\n",
    "<p>While inside of a class, functions are referred to as 'methods'. If you hear someone mention methods, they're speaking about classes. Methods are essentially functions, but only callable on the instances of a class.</p>"
   ]
  },
  {
   "cell_type": "markdown",
   "metadata": {},
   "source": [
    "##### Creating"
   ]
  },
  {
   "cell_type": "code",
   "execution_count": null,
   "metadata": {},
   "outputs": [],
   "source": [
    "class Bus():\n",
    "    \"\"\"\n",
    "    Our bus will have some dors, seats, seats available, color, and a bus driver\n",
    "    \n",
    "    Atrributes for the class **inside the init**:\n",
    "    - doors: expected to be an integer\n",
    "    - seats: integer\n",
    "    - seats_available: integer\n",
    "    - color: string\n",
    "    - bus_driver: string\n",
    "    \"\"\"\n",
    "    \n",
    "    def __init__(self, doors, seats, seats_available, color, bus_driver):\n",
    "        self.doors = doors\n",
    "        self.seats = seats\n",
    "        self.seats_available = seats_available\n",
    "        self.color = color\n",
    "        self.bus_driver = bus_driver\n",
    "\n",
    "    # decrement the number of seats available. \n",
    "    # changing a class attribute with a method\n",
    "    def load_passengers(self): # \"self\" to access above\n",
    "        if self.seats_available <= 0:\n",
    "            print(\"The bus is full: you can't take any more passengers!\")\n",
    "        if self.seats_available < 0:\n",
    "            print(\"You left {abs(self.seats_available)} people by the road\")\n",
    "            self.seats_available = 0\n",
    "            \n",
    "        else:\n",
    "            passengers = int(input(\"How many passengeres are getting on?\"))\n",
    "            self.seats_available -= passengers\n",
    "            print(f\"{passengers} seats have been loaded and there are {self.seats_available} seats available\")\n",
    "            \n",
    "    # increment the number of seats available \n",
    "    # changes a class attribute with a method\n",
    "    def unload_passeners(self):\n",
    "        if self.seats_available >= self.seats:\n",
    "            print(\"There is no one left to get off the bus!\")\n",
    "            self.seats_available = self.seats\n",
    "        else: \n",
    "            unload = int(input(\"How many passengers are getting off the bus?\"))\n",
    "            self.seats_available += unload\n",
    "            if self.seats_available >=self.seats:\n",
    "                self.seats_available = self.seats\n",
    "                print(f\"{unload} passengers have left the bus. There are {self.seats_available} unoccupied seats.\")\n",
    "            print(f\"{unload} passengers have left the bus. There are {self.seats_available} unoccupied seats.\")\n",
    "\n",
    "    def change_driver(self):\n",
    "        change = input(\"Who is replacing you?\")\n",
    "        self.bus_driver = change\n",
    "        print(f\"The new bus driver is {self.bus_driver}.\")\n",
    "        \n",
    "    def check_seats(self):\n",
    "        print(f\"There are {self.seats_available} seats available.\")\n",
    "        \n",
    "    def admire_bus(self):\n",
    "        print(f\"would ya just look at that beautiful {self.color} bus!\")\n",
    "\n",
    "party_bus = Bus(2, 90, 45, 'yellow', 'Ryan')  #this is the instantiated class\n",
    "        "
   ]
  },
  {
   "cell_type": "markdown",
   "metadata": {},
   "source": [
    "##### Calling"
   ]
  },
  {
   "cell_type": "code",
   "execution_count": null,
   "metadata": {},
   "outputs": [],
   "source": [
    "def run():\n",
    "    while True:\n",
    "        response = input(\"What would you like to do? Load/Unload/Change Driver/Check Seats/Admire/Quit\")\n",
    "        if response.lower() == 'quit':\n",
    "            print(\"Oh no! there are still passengers to be picked up!\")\n",
    "            break\n",
    "        elif response.lower().strip() == 'load':\n",
    "            party_bus.load_passengers() #neeed () because method\n",
    "        elif response.lower().strip() == 'unload':\n",
    "            party_bus.unload_passengers()\n",
    "        elif response.lower().strip() == 'change driver':\n",
    "            party_bus.change_driver()\n",
    "        elif response.lower().strip() == 'check seats':\n",
    "            party_bus.check_seats()\n",
    "        elif response.lower().strip() == 'admire':\n",
    "            party_bus.admire_bus() \n",
    "            \n",
    "        else:\n",
    "            print(\"That is not a valid response, please choose one from the list!\")\n",
    "\n",
    "run()\n"
   ]
  },
  {
   "cell_type": "markdown",
   "metadata": {},
   "source": [
    "##### Modifying an Attribute's Value Through a Method"
   ]
  },
  {
   "cell_type": "code",
   "execution_count": null,
   "metadata": {},
   "outputs": [],
   "source": []
  },
  {
   "cell_type": "markdown",
   "metadata": {},
   "source": [
    "##### Incrementing an Attribute's Value Through a Method"
   ]
  },
  {
   "cell_type": "code",
   "execution_count": null,
   "metadata": {},
   "outputs": [],
   "source": []
  },
  {
   "cell_type": "markdown",
   "metadata": {},
   "source": [
    "##### In-Class Exercise #3 - Add a method that takes in three parameters of year, doors and seats and prints out a formatted print statement with make, model, year, seats, and doors"
   ]
  },
  {
   "cell_type": "code",
   "execution_count": 7,
   "metadata": {},
   "outputs": [
    {
     "ename": "AttributeError",
     "evalue": "'vehicle' object has no attribute 'vehicle'",
     "output_type": "error",
     "traceback": [
      "\u001b[0;31m---------------------------------------------------------------------------\u001b[0m",
      "\u001b[0;31mAttributeError\u001b[0m                            Traceback (most recent call last)",
      "\u001b[0;32m/var/folders/6f/4q9kcrzs1f97_rkfh4sslsbm0000gn/T/ipykernel_1231/3204623102.py\u001b[0m in \u001b[0;36m<module>\u001b[0;34m\u001b[0m\n\u001b[1;32m     19\u001b[0m \u001b[0mcar\u001b[0m \u001b[0;34m=\u001b[0m \u001b[0mvehicle\u001b[0m\u001b[0;34m(\u001b[0m\u001b[0;36m2019\u001b[0m\u001b[0;34m,\u001b[0m \u001b[0;36m5\u001b[0m\u001b[0;34m,\u001b[0m \u001b[0;36m4\u001b[0m\u001b[0;34m)\u001b[0m\u001b[0;34m\u001b[0m\u001b[0;34m\u001b[0m\u001b[0m\n\u001b[1;32m     20\u001b[0m \u001b[0;34m\u001b[0m\u001b[0m\n\u001b[0;32m---> 21\u001b[0;31m \u001b[0mcar\u001b[0m\u001b[0;34m.\u001b[0m\u001b[0mprintInfo\u001b[0m\u001b[0;34m(\u001b[0m\u001b[0;34m)\u001b[0m\u001b[0;34m\u001b[0m\u001b[0;34m\u001b[0m\u001b[0m\n\u001b[0m\u001b[1;32m     22\u001b[0m \u001b[0;34m\u001b[0m\u001b[0m\n\u001b[1;32m     23\u001b[0m \u001b[0;34m\u001b[0m\u001b[0m\n",
      "\u001b[0;32m/var/folders/6f/4q9kcrzs1f97_rkfh4sslsbm0000gn/T/ipykernel_1231/3204623102.py\u001b[0m in \u001b[0;36mprintInfo\u001b[0;34m(self)\u001b[0m\n\u001b[1;32m     15\u001b[0m \u001b[0;34m\u001b[0m\u001b[0m\n\u001b[1;32m     16\u001b[0m     \u001b[0;32mdef\u001b[0m \u001b[0mprintInfo\u001b[0m\u001b[0;34m(\u001b[0m\u001b[0mself\u001b[0m\u001b[0;34m)\u001b[0m\u001b[0;34m:\u001b[0m\u001b[0;34m\u001b[0m\u001b[0;34m\u001b[0m\u001b[0m\n\u001b[0;32m---> 17\u001b[0;31m         \u001b[0mprint\u001b[0m\u001b[0;34m(\u001b[0m\u001b[0;34mf\"This car is a {self.year} {self.vehicle.MAKE} {self.vehicle.MODEL} with {self.seats} and {self.doors}.\"\u001b[0m\u001b[0;34m)\u001b[0m\u001b[0;34m\u001b[0m\u001b[0;34m\u001b[0m\u001b[0m\n\u001b[0m\u001b[1;32m     18\u001b[0m \u001b[0;34m\u001b[0m\u001b[0m\n\u001b[1;32m     19\u001b[0m \u001b[0mcar\u001b[0m \u001b[0;34m=\u001b[0m \u001b[0mvehicle\u001b[0m\u001b[0;34m(\u001b[0m\u001b[0;36m2019\u001b[0m\u001b[0;34m,\u001b[0m \u001b[0;36m5\u001b[0m\u001b[0;34m,\u001b[0m \u001b[0;36m4\u001b[0m\u001b[0;34m)\u001b[0m\u001b[0;34m\u001b[0m\u001b[0;34m\u001b[0m\u001b[0m\n",
      "\u001b[0;31mAttributeError\u001b[0m: 'vehicle' object has no attribute 'vehicle'"
     ]
    }
   ],
   "source": [
    "# Create class with 2 paramters inside of the __init__ which are make and model\n",
    "\n",
    "# Inside of the Car class create a method that has 4 parameter in total (self,year,door,seats)\n",
    "\n",
    "# Output: This car is from 2019 and is a Ford Expolorer and has 4 doors and 5 seats\n",
    "\n",
    "class vehicle():\n",
    "    MAKE = 'Toyota'\n",
    "    MODEL = 'Camry'\n",
    "    \n",
    "    def __init__(self, year, seats, doors):\n",
    "        self.year = year\n",
    "        self.seats = seats\n",
    "        self.doors = doors\n",
    "        \n",
    "    def printInfo(self):\n",
    "        print(f\"This car is a {self.year} {self.vehicle.MAKE} {self.vehicle.MODEL} with {self.seats} and {self.doors}.\")\n",
    "        \n",
    "car = vehicle(2019, 5, 4)\n",
    "\n",
    "car.printInfo()\n",
    "        \n",
    "\n",
    "\n",
    "        "
   ]
  },
  {
   "cell_type": "code",
   "execution_count": null,
   "metadata": {},
   "outputs": [],
   "source": []
  },
  {
   "cell_type": "markdown",
   "metadata": {},
   "source": [
    "## Inheritance <br>\n",
    "<p>You can create a child-parent relationship between two classes by using inheritance. What this allows you to do is have overriding methods, but also inherit traits from the parent class. Think of it as an actual parent and child, the child will inherit the parent's genes, as will the classes in OOP</p>"
   ]
  },
  {
   "cell_type": "markdown",
   "metadata": {},
   "source": [
    "##### Syntax for Inheriting from a Parent Class"
   ]
  },
  {
   "cell_type": "code",
   "execution_count": 120,
   "metadata": {},
   "outputs": [],
   "source": [
    "class Animal():\n",
    "    ACCELERATION = 9.8 #attribute\n",
    "    \n",
    "    def __init__(self, name, species, legs = 4):\n",
    "        self.name = name\n",
    "        self.species = species\n",
    "        self.legs = legs\n",
    "    \n",
    "    # Generic Parent (animal) method -- No OverRide\n",
    "    def make_sound(self):\n",
    "        print('reeeeeee')\n",
    "    \n",
    "    # Creating a child class\n",
    "class Dog(Animal): # putting the parent inside class dog\n",
    "    SPEED = 15\n",
    "    \n",
    "    def printInfo(self):\n",
    "        print(f\"The dog runs at {SPEED} mph and accelerates towards the ground at {ACCELERATION} mps\")\n",
    "        \n",
    "    # Creating a grandchild cass\n",
    "class Mut(Dog):\n",
    "    COLOR = \"brown and tanish\"\n",
    "    \n",
    "    # OverRide the Animal Class__init__ method by using the Dog class\n",
    "    def __init__(self, name, species, eye_color, legs = 4):\n",
    "        Dog.__init__(self, name, species, legs)  # pulling from dog() which is pulling from animal()\n",
    "        self.eye_color = eye_color\n",
    "        \n",
    "    #overRide the make_sound method from the animal class\n",
    "    def make_sound(self): #method\n",
    "        print(\"ruff ruff ruff awoooo\")\n",
    "\n",
    "        "
   ]
  },
  {
   "cell_type": "code",
   "execution_count": 119,
   "metadata": {},
   "outputs": [
    {
     "name": "stdout",
     "output_type": "stream",
     "text": [
      "Sassy\n",
      "reeeeeee\n",
      "reeeeeee\n",
      "9.8\n",
      "15\n",
      "woof\n"
     ]
    }
   ],
   "source": [
    "cat = Animal(\"Sassy\", 'Himalayan cat')\n",
    "print(cat.name)\n",
    "dog = Dog('Shadow', 'Golden Retriever')\n",
    "cat.make_sound()\n",
    "dog.make_sound()\n",
    "print(dog.ACCELERATION)\n",
    "print(dog.SPEED)  #specificaly only for dog, not for any other animal like can't do cat.SPEED\n",
    "\n",
    "mut = Mut('Eyo', 'chihuahua-terrier mix and maybe also beagle?', 'brown')\n",
    "mut.make_sound()  # overRides the animal sound\n",
    "\n",
    "\n"
   ]
  },
  {
   "cell_type": "markdown",
   "metadata": {},
   "source": [
    "##### The \\__init\\__() Method for a Child Class - super()"
   ]
  },
  {
   "cell_type": "code",
   "execution_count": 122,
   "metadata": {
    "scrolled": true
   },
   "outputs": [
    {
     "name": "stdout",
     "output_type": "stream",
     "text": [
      "woof\n",
      "15\n"
     ]
    }
   ],
   "source": [
    "class Mut(Dog):\n",
    "    COLOR = \"brown and tan\"\n",
    "    \n",
    "    #overriding the Animal class __init__ with the super().__init__\n",
    "    def __init__(self, name, species, eye_color, legs = 4):\n",
    "        super().__init__(name, species, legs)\n",
    "        # super will reference the class that the child class takes in\n",
    "        self.eye_color = eye_color\n",
    "    def make_sound(self):\n",
    "        print('woof')\n",
    "\n",
    "Czika = Mut('Czika', 'mini pinscher', 'black and tan')\n",
    "Czika.make_sound()\n",
    "print(Czika.SPEED)"
   ]
  },
  {
   "cell_type": "markdown",
   "metadata": {},
   "source": [
    "##### Defining Attributes and Methods for the Child Class"
   ]
  },
  {
   "cell_type": "code",
   "execution_count": null,
   "metadata": {},
   "outputs": [],
   "source": [
    "# See Above"
   ]
  },
  {
   "cell_type": "markdown",
   "metadata": {},
   "source": [
    "##### Method Overriding"
   ]
  },
  {
   "cell_type": "code",
   "execution_count": null,
   "metadata": {},
   "outputs": [],
   "source": [
    "# See Above"
   ]
  },
  {
   "cell_type": "markdown",
   "metadata": {},
   "source": [
    "## Classes as Attributes <br>\n",
    "<p>Classes can also be used as attributes within another class. This is useful in situations where you need to keep variables locally stored, instead of globally stored.</p>"
   ]
  },
  {
   "cell_type": "code",
   "execution_count": 127,
   "metadata": {},
   "outputs": [
    {
     "data": {
      "text/plain": [
       "'Here is some info, please enjoy: 2022, Tesla, model X, 20, 7.8'"
      ]
     },
     "execution_count": 127,
     "metadata": {},
     "output_type": "execute_result"
    }
   ],
   "source": [
    "class Battery():\n",
    "    VOLTZ = 7.8\n",
    "    \n",
    "    def __init__(self, cells):\n",
    "        self.cells = cells\n",
    "class Car():\n",
    "    def __init__(self, year, make, model, battery):\n",
    "        self.year = yearb\n",
    "        self.make = make\n",
    "        self.model = model\n",
    "        self.battery = battery\n",
    "        \n",
    "    def printInfo(self):\n",
    "        return f\"Here is some info, please enjoy: {self.year}, {self.make}, {self.model}, {self.battery.cells}, {self.battery.VOLTZ}\"\n",
    "\n",
    "battery = Battery(20)\n",
    "tesla = Car(2022, 'Tesla', 'model X', battery)\n",
    "\n",
    "tesla.printInfo()"
   ]
  },
  {
   "cell_type": "markdown",
   "metadata": {},
   "source": [
    "# Exercise #4\n",
    "Create a class that has at least 3 attributes.One must be a list or a dictionary.\n",
    "\n",
    "The class must also have 3 methods, one that adds to the list or dictionary, one that alters an atributes value, and one that does whatever you want it to do."
   ]
  },
  {
   "cell_type": "code",
   "execution_count": 129,
   "metadata": {},
   "outputs": [
    {
     "ename": "KeyboardInterrupt",
     "evalue": "Interrupted by user",
     "output_type": "error",
     "traceback": [
      "\u001b[0;31m---------------------------------------------------------------------------\u001b[0m",
      "\u001b[0;31mKeyboardInterrupt\u001b[0m                         Traceback (most recent call last)",
      "\u001b[0;32m/var/folders/6f/4q9kcrzs1f97_rkfh4sslsbm0000gn/T/ipykernel_1534/564065813.py\u001b[0m in \u001b[0;36m<module>\u001b[0;34m\u001b[0m\n\u001b[1;32m     62\u001b[0m \u001b[0;34m\u001b[0m\u001b[0m\n\u001b[1;32m     63\u001b[0m \u001b[0mspider_man\u001b[0m \u001b[0;34m=\u001b[0m \u001b[0mSuper_hero\u001b[0m\u001b[0;34m(\u001b[0m\u001b[0;34m\"Spider-Man\"\u001b[0m\u001b[0;34m,\u001b[0m\u001b[0;34m[\u001b[0m\u001b[0;34m\"shoots webs\"\u001b[0m\u001b[0;34m,\u001b[0m \u001b[0;34m\"reflexes\"\u001b[0m\u001b[0;34m,\u001b[0m \u001b[0;34m\"super strength\"\u001b[0m\u001b[0;34m,\u001b[0m \u001b[0;34m\"spidey sense\"\u001b[0m\u001b[0;34m]\u001b[0m\u001b[0;34m,\u001b[0m \u001b[0;34m\"Peter Parker\"\u001b[0m\u001b[0;34m,\u001b[0m \u001b[0;34m\"Mary Jane\"\u001b[0m\u001b[0;34m)\u001b[0m\u001b[0;34m\u001b[0m\u001b[0;34m\u001b[0m\u001b[0m\n\u001b[0;32m---> 64\u001b[0;31m \u001b[0mspider_man\u001b[0m\u001b[0;34m.\u001b[0m\u001b[0madd_info\u001b[0m\u001b[0;34m(\u001b[0m\u001b[0;34m)\u001b[0m\u001b[0;34m\u001b[0m\u001b[0;34m\u001b[0m\u001b[0m\n\u001b[0m",
      "\u001b[0;32m/var/folders/6f/4q9kcrzs1f97_rkfh4sslsbm0000gn/T/ipykernel_1534/564065813.py\u001b[0m in \u001b[0;36madd_info\u001b[0;34m(self)\u001b[0m\n\u001b[1;32m     56\u001b[0m \u001b[0;34m\u001b[0m\u001b[0m\n\u001b[1;32m     57\u001b[0m     \u001b[0;32mdef\u001b[0m \u001b[0madd_info\u001b[0m\u001b[0;34m(\u001b[0m\u001b[0mself\u001b[0m\u001b[0;34m)\u001b[0m\u001b[0;34m:\u001b[0m\u001b[0;34m\u001b[0m\u001b[0;34m\u001b[0m\u001b[0m\n\u001b[0;32m---> 58\u001b[0;31m         \u001b[0mbad_guy\u001b[0m \u001b[0;34m=\u001b[0m \u001b[0minput\u001b[0m\u001b[0;34m(\u001b[0m\u001b[0;34m\"Who is the bad guy?\"\u001b[0m\u001b[0;34m)\u001b[0m\u001b[0;34m\u001b[0m\u001b[0;34m\u001b[0m\u001b[0m\n\u001b[0m\u001b[1;32m     59\u001b[0m         \u001b[0mwhere_bad\u001b[0m \u001b[0;34m=\u001b[0m \u001b[0minput\u001b[0m \u001b[0;34m(\u001b[0m\u001b[0;34m\"Where is the bad guy?\"\u001b[0m\u001b[0;34m)\u001b[0m\u001b[0;34m\u001b[0m\u001b[0;34m\u001b[0m\u001b[0m\n\u001b[1;32m     60\u001b[0m         \u001b[0mself\u001b[0m\u001b[0;34m.\u001b[0m\u001b[0minfo\u001b[0m\u001b[0;34m[\u001b[0m\u001b[0mbad_guy\u001b[0m\u001b[0;34m]\u001b[0m \u001b[0;34m=\u001b[0m \u001b[0mwhere_bad\u001b[0m\u001b[0;34m\u001b[0m\u001b[0;34m\u001b[0m\u001b[0m\n",
      "\u001b[0;32m~/opt/anaconda3/lib/python3.9/site-packages/ipykernel/kernelbase.py\u001b[0m in \u001b[0;36mraw_input\u001b[0;34m(self, prompt)\u001b[0m\n\u001b[1;32m   1004\u001b[0m                 \u001b[0;34m\"raw_input was called, but this frontend does not support input requests.\"\u001b[0m\u001b[0;34m\u001b[0m\u001b[0;34m\u001b[0m\u001b[0m\n\u001b[1;32m   1005\u001b[0m             )\n\u001b[0;32m-> 1006\u001b[0;31m         return self._input_request(\n\u001b[0m\u001b[1;32m   1007\u001b[0m             \u001b[0mstr\u001b[0m\u001b[0;34m(\u001b[0m\u001b[0mprompt\u001b[0m\u001b[0;34m)\u001b[0m\u001b[0;34m,\u001b[0m\u001b[0;34m\u001b[0m\u001b[0;34m\u001b[0m\u001b[0m\n\u001b[1;32m   1008\u001b[0m             \u001b[0mself\u001b[0m\u001b[0;34m.\u001b[0m\u001b[0m_parent_ident\u001b[0m\u001b[0;34m[\u001b[0m\u001b[0;34m\"shell\"\u001b[0m\u001b[0;34m]\u001b[0m\u001b[0;34m,\u001b[0m\u001b[0;34m\u001b[0m\u001b[0;34m\u001b[0m\u001b[0m\n",
      "\u001b[0;32m~/opt/anaconda3/lib/python3.9/site-packages/ipykernel/kernelbase.py\u001b[0m in \u001b[0;36m_input_request\u001b[0;34m(self, prompt, ident, parent, password)\u001b[0m\n\u001b[1;32m   1049\u001b[0m             \u001b[0;32mexcept\u001b[0m \u001b[0mKeyboardInterrupt\u001b[0m\u001b[0;34m:\u001b[0m\u001b[0;34m\u001b[0m\u001b[0;34m\u001b[0m\u001b[0m\n\u001b[1;32m   1050\u001b[0m                 \u001b[0;31m# re-raise KeyboardInterrupt, to truncate traceback\u001b[0m\u001b[0;34m\u001b[0m\u001b[0;34m\u001b[0m\u001b[0m\n\u001b[0;32m-> 1051\u001b[0;31m                 \u001b[0;32mraise\u001b[0m \u001b[0mKeyboardInterrupt\u001b[0m\u001b[0;34m(\u001b[0m\u001b[0;34m\"Interrupted by user\"\u001b[0m\u001b[0;34m)\u001b[0m \u001b[0;32mfrom\u001b[0m \u001b[0;32mNone\u001b[0m\u001b[0;34m\u001b[0m\u001b[0;34m\u001b[0m\u001b[0m\n\u001b[0m\u001b[1;32m   1052\u001b[0m             \u001b[0;32mexcept\u001b[0m \u001b[0mException\u001b[0m\u001b[0;34m:\u001b[0m\u001b[0;34m\u001b[0m\u001b[0;34m\u001b[0m\u001b[0m\n\u001b[1;32m   1053\u001b[0m                 \u001b[0mself\u001b[0m\u001b[0;34m.\u001b[0m\u001b[0mlog\u001b[0m\u001b[0;34m.\u001b[0m\u001b[0mwarning\u001b[0m\u001b[0;34m(\u001b[0m\u001b[0;34m\"Invalid Message:\"\u001b[0m\u001b[0;34m,\u001b[0m \u001b[0mexc_info\u001b[0m\u001b[0;34m=\u001b[0m\u001b[0;32mTrue\u001b[0m\u001b[0;34m)\u001b[0m\u001b[0;34m\u001b[0m\u001b[0;34m\u001b[0m\u001b[0m\n",
      "\u001b[0;31mKeyboardInterrupt\u001b[0m: Interrupted by user"
     ]
    }
   ],
   "source": [
    "# class Super_hero():\n",
    "    \n",
    "#     def __init__(self, secret_identity, weakness):\n",
    "#         self.powers = []\n",
    "#         self.secret_identity = secret_identity\n",
    "#         self.weakness = weakness\n",
    "    \n",
    "#     def moto(self):\n",
    "#         print('save the world, do no harm')\n",
    "        \n",
    "# class Bird_man(Super_hero):\n",
    "#     NAME = Birdy\n",
    "#     print(f\"Bird Man goes by {NAME}.\")\n",
    "    \n",
    "#     def __init__(self, secret_identity, weakness, color, boots, cape):\n",
    "#         super().__init__(secret_identity, weakness)\n",
    "#         self.color = 'blue'\n",
    "#         self.boots = 'cowboy'\n",
    "#         self.cape = 'clouds'\n",
    "    \n",
    "# super_hero.powers = ['flying', 'moving clouds', 'redirecting birds']\n",
    "\n",
    "# hero = Bird_man('mystery', 'fire')\n",
    "\n",
    "# super_hero.bird_man()\n",
    "\n",
    "class Super_hero():\n",
    "    \n",
    "    def __init__(self, hero_name, powers, secret_identity, weakness):\n",
    "        self.hero_name = hero_name\n",
    "        self.powers = powers\n",
    "        self.secret_identity = secret_identity\n",
    "        self.weakness = weakness\n",
    "        self.info = {}\n",
    "    \n",
    "    def add_power(self):\n",
    "        new_power = input(\"What powers would you like to have?\").lower().strip()\n",
    "        if new_power not in self.powers:\n",
    "            self.powers.append(new_power)\n",
    "            print(f\"{self.hero_name} can now perform {new_power}!\")\n",
    "    \n",
    "    def abilities(self):\n",
    "        abilities = set(self.powers)\n",
    "        print(f\"\"\"Here are your current powers\n",
    "        {abilities}\"\"\")\n",
    "    \n",
    "    def remove_power(self):\n",
    "        print(f\"Here are you powers:\")\n",
    "        print(self.powers)\n",
    "        removed_power = input(\"Which power have you lost?\").lower().strip()\n",
    "        if removed_power not in self.powers:\n",
    "            print(f\"{removed_power} not in list!\")\n",
    "        else:\n",
    "            self.powers.remove(removed_power)\n",
    "            print(f\"{self.hero_name} has now lost this power\")\n",
    "            \n",
    "    def add_info(self):\n",
    "        bad_guy = input(\"Who is the bad guy?\")\n",
    "        where_bad = input (\"Where is the bad guy?\")\n",
    "        self.info[bad_guy] = where_bad\n",
    "        print(self.info)\n",
    "\n",
    "spider_man = Super_hero(\"Spider-Man\",[\"shoots webs\", \"reflexes\", \"super strength\", \"spidey sense\"], \"Peter Parker\", \"Mary Jane\")\n",
    "spider_man.add_info()"
   ]
  },
  {
   "cell_type": "markdown",
   "metadata": {},
   "source": [
    "# Exercises"
   ]
  },
  {
   "cell_type": "markdown",
   "metadata": {},
   "source": [
    "### Exercise 1 - Turn the shopping cart program from yesterday into an object-oriented program\n",
    "\n",
    "The comments in the cell below are there as a guide for thinking about the problem. However, if you feel a different way is best for you and your own thought process, please do what feels best for you by all means."
   ]
  },
  {
   "cell_type": "code",
   "execution_count": null,
   "metadata": {},
   "outputs": [
    {
     "name": "stdout",
     "output_type": "stream",
     "text": [
      "Welcome to Stop and Shop! \n",
      "What would you like to do? Add/Remove/Basket/Quit: add\n",
      "What would you like to add to your basket? strawberries\n",
      "How many? 5\n",
      "5 strawberries were added to your basket.\n",
      "Please provide a valid response: Add/Remove/Basket/Quit: \n",
      "Welcome to Stop and Shop! \n",
      "What would you like to do? Add/Remove/Basket/Quit: add\n",
      "What would you like to add to your basket? mangoes\n",
      "How many? 4\n",
      "4 mangoes were added to your basket.\n",
      "Please provide a valid response: Add/Remove/Basket/Quit: \n",
      "Welcome to Stop and Shop! \n",
      "What would you like to do? Add/Remove/Basket/Quit: remove\n",
      "What would you like to remove? mangoes\n",
      "How many? 3\n",
      "You have removed 3 mangoes from your basket.\n",
      "Please provide a valid response: Add/Remove/Basket/Quit: \n",
      "Welcome to Stop and Shop! \n",
      "What would you like to do? Add/Remove/Basket/Quit: basket\n",
      "Here is your basket: \n",
      "{'strawberries': '5', 'mangoes': 1}\n"
     ]
    }
   ],
   "source": [
    "class Cart():\n",
    "    def __init__(self, basket = None):\n",
    "        self.basket = basket or {}\n",
    "    \n",
    "    def add_to_basket(self):\n",
    "        add_to = input(\"What would you like to add to your basket? \")\n",
    "        how_many = input(\"How many? \")\n",
    "        self.basket[add_to] = how_many\n",
    "        print(f\"{how_many} {add_to} were added to your basket.\")\n",
    "        \n",
    "    def remove_from_basket(self):\n",
    "        if not self.basket:\n",
    "            return \"You have nothing to remove at this time.\"\n",
    "        remove_from = input(\"What would you like to remove? \")\n",
    "        remove_amount = input(\"How many? \")\n",
    "        self.basket[remove_from] = int(self.basket[remove_from]) - int(remove_amount)\n",
    "        print(f\"You have removed {int(remove_amount)} {remove_from} from your basket.\")\n",
    "        if self.basket[remove_from] == 0:\n",
    "            del self.basket[remove_from]\n",
    "        \n",
    "    def show_basket(self):\n",
    "        print(\"Here is your basket: \")\n",
    "        print(f\"{self.basket}\")\n",
    "\n",
    "    \n",
    "    def run_cart(self):\n",
    "        while True:\n",
    "            response = input(\"Welcome to Stop and Shop! \\nWhat would you like to do? Add/Remove/Basket/Quit: \")\n",
    "            if response.lower().strip() == 'quit':\n",
    "                print(\"Thank you for visiting Stop and Shop\")\n",
    "                print(f\"Your basket includes: {dinner_party.basket}\")\n",
    "                break\n",
    "            if response.lower().strip() == 'add':\n",
    "                self.add_to_basket()\n",
    "            if response.lower().strip() == 'remove':\n",
    "                self.remove_from_basket()\n",
    "            if response.lower().strip() == 'basket':\n",
    "                self.show_basket()\n",
    "            else:\n",
    "                print(\"Please provide a valid response: Add/Remove/Basket/Quit: \")\n",
    "\n",
    "dinner_party = Cart()\n",
    "dinner_party.run_cart()\n",
    "\n"
   ]
  },
  {
   "cell_type": "code",
   "execution_count": 10,
   "metadata": {},
   "outputs": [
    {
     "name": "stdout",
     "output_type": "stream",
     "text": [
      "Welcome to Stop and Shop! \n",
      "What would you like to do? Add/Remove/Basket/Quit: add\n",
      "What would you like to add to your basket? strawberries\n",
      "How many? 5\n",
      "5 strawberries were added to your basket.\n",
      "Please provide a valid response: Add/Remove/Basket/Quit: \n",
      "Welcome to Stop and Shop! \n",
      "What would you like to do? Add/Remove/Basket/Quit: add\n",
      "What would you like to add to your basket? bananas\n",
      "How many? 5\n",
      "5 bananas were added to your basket.\n",
      "Please provide a valid response: Add/Remove/Basket/Quit: \n",
      "Welcome to Stop and Shop! \n",
      "What would you like to do? Add/Remove/Basket/Quit: remove\n",
      "What would you like to remove? bananas\n",
      "How many? 3\n",
      "You have removed 3 bananas from your basket.\n",
      "Please provide a valid response: Add/Remove/Basket/Quit: \n",
      "Welcome to Stop and Shop! \n",
      "What would you like to do? Add/Remove/Basket/Quit: bananas\n",
      "Please provide a valid response: Add/Remove/Basket/Quit: \n",
      "Welcome to Stop and Shop! \n",
      "What would you like to do? Add/Remove/Basket/Quit: remove\n",
      "What would you like to remove? bananas\n",
      "How many? 2\n",
      "You have removed 2 bananas from your basket.\n",
      "Please provide a valid response: Add/Remove/Basket/Quit: \n",
      "Welcome to Stop and Shop! \n",
      "What would you like to do? Add/Remove/Basket/Quit: basket\n",
      "Here is your basket: \n",
      "{'strawberries': '5'}\n"
     ]
    },
    {
     "ename": "KeyboardInterrupt",
     "evalue": "Interrupted by user",
     "output_type": "error",
     "traceback": [
      "\u001b[0;31m---------------------------------------------------------------------------\u001b[0m",
      "\u001b[0;31mKeyboardInterrupt\u001b[0m                         Traceback (most recent call last)",
      "\u001b[0;32m/var/folders/6f/4q9kcrzs1f97_rkfh4sslsbm0000gn/T/ipykernel_1105/1523483923.py\u001b[0m in \u001b[0;36m<module>\u001b[0;34m\u001b[0m\n\u001b[1;32m     16\u001b[0m             \u001b[0mprint\u001b[0m\u001b[0;34m(\u001b[0m\u001b[0;34m\"Please provide a valid response: Add/Remove/Basket/Quit: \"\u001b[0m\u001b[0;34m)\u001b[0m\u001b[0;34m\u001b[0m\u001b[0;34m\u001b[0m\u001b[0m\n\u001b[1;32m     17\u001b[0m \u001b[0;34m\u001b[0m\u001b[0m\n\u001b[0;32m---> 18\u001b[0;31m \u001b[0mrun_cart\u001b[0m\u001b[0;34m(\u001b[0m\u001b[0;34m)\u001b[0m\u001b[0;34m\u001b[0m\u001b[0;34m\u001b[0m\u001b[0m\n\u001b[0m",
      "\u001b[0;32m/var/folders/6f/4q9kcrzs1f97_rkfh4sslsbm0000gn/T/ipykernel_1105/1523483923.py\u001b[0m in \u001b[0;36mrun_cart\u001b[0;34m()\u001b[0m\n\u001b[1;32m      2\u001b[0m     \u001b[0mdinner_party\u001b[0m \u001b[0;34m=\u001b[0m \u001b[0mCart\u001b[0m\u001b[0;34m(\u001b[0m\u001b[0;34m)\u001b[0m\u001b[0;34m\u001b[0m\u001b[0;34m\u001b[0m\u001b[0m\n\u001b[1;32m      3\u001b[0m     \u001b[0;32mwhile\u001b[0m \u001b[0;32mTrue\u001b[0m\u001b[0;34m:\u001b[0m\u001b[0;34m\u001b[0m\u001b[0;34m\u001b[0m\u001b[0m\n\u001b[0;32m----> 4\u001b[0;31m         \u001b[0mresponse\u001b[0m \u001b[0;34m=\u001b[0m \u001b[0minput\u001b[0m\u001b[0;34m(\u001b[0m\u001b[0;34m\"Welcome to Stop and Shop! \\nWhat would you like to do? Add/Remove/Basket/Quit: \"\u001b[0m\u001b[0;34m)\u001b[0m\u001b[0;34m\u001b[0m\u001b[0;34m\u001b[0m\u001b[0m\n\u001b[0m\u001b[1;32m      5\u001b[0m         \u001b[0;32mif\u001b[0m \u001b[0mresponse\u001b[0m\u001b[0;34m.\u001b[0m\u001b[0mlower\u001b[0m\u001b[0;34m(\u001b[0m\u001b[0;34m)\u001b[0m\u001b[0;34m.\u001b[0m\u001b[0mstrip\u001b[0m\u001b[0;34m(\u001b[0m\u001b[0;34m)\u001b[0m \u001b[0;34m==\u001b[0m \u001b[0;34m'quit'\u001b[0m\u001b[0;34m:\u001b[0m\u001b[0;34m\u001b[0m\u001b[0;34m\u001b[0m\u001b[0m\n\u001b[1;32m      6\u001b[0m             \u001b[0mprint\u001b[0m\u001b[0;34m(\u001b[0m\u001b[0;34m\"Thank you for visiting Stop and Shop\"\u001b[0m\u001b[0;34m)\u001b[0m\u001b[0;34m\u001b[0m\u001b[0;34m\u001b[0m\u001b[0m\n",
      "\u001b[0;32m~/opt/anaconda3/lib/python3.9/site-packages/ipykernel/kernelbase.py\u001b[0m in \u001b[0;36mraw_input\u001b[0;34m(self, prompt)\u001b[0m\n\u001b[1;32m   1004\u001b[0m                 \u001b[0;34m\"raw_input was called, but this frontend does not support input requests.\"\u001b[0m\u001b[0;34m\u001b[0m\u001b[0;34m\u001b[0m\u001b[0m\n\u001b[1;32m   1005\u001b[0m             )\n\u001b[0;32m-> 1006\u001b[0;31m         return self._input_request(\n\u001b[0m\u001b[1;32m   1007\u001b[0m             \u001b[0mstr\u001b[0m\u001b[0;34m(\u001b[0m\u001b[0mprompt\u001b[0m\u001b[0;34m)\u001b[0m\u001b[0;34m,\u001b[0m\u001b[0;34m\u001b[0m\u001b[0;34m\u001b[0m\u001b[0m\n\u001b[1;32m   1008\u001b[0m             \u001b[0mself\u001b[0m\u001b[0;34m.\u001b[0m\u001b[0m_parent_ident\u001b[0m\u001b[0;34m[\u001b[0m\u001b[0;34m\"shell\"\u001b[0m\u001b[0;34m]\u001b[0m\u001b[0;34m,\u001b[0m\u001b[0;34m\u001b[0m\u001b[0;34m\u001b[0m\u001b[0m\n",
      "\u001b[0;32m~/opt/anaconda3/lib/python3.9/site-packages/ipykernel/kernelbase.py\u001b[0m in \u001b[0;36m_input_request\u001b[0;34m(self, prompt, ident, parent, password)\u001b[0m\n\u001b[1;32m   1049\u001b[0m             \u001b[0;32mexcept\u001b[0m \u001b[0mKeyboardInterrupt\u001b[0m\u001b[0;34m:\u001b[0m\u001b[0;34m\u001b[0m\u001b[0;34m\u001b[0m\u001b[0m\n\u001b[1;32m   1050\u001b[0m                 \u001b[0;31m# re-raise KeyboardInterrupt, to truncate traceback\u001b[0m\u001b[0;34m\u001b[0m\u001b[0;34m\u001b[0m\u001b[0m\n\u001b[0;32m-> 1051\u001b[0;31m                 \u001b[0;32mraise\u001b[0m \u001b[0mKeyboardInterrupt\u001b[0m\u001b[0;34m(\u001b[0m\u001b[0;34m\"Interrupted by user\"\u001b[0m\u001b[0;34m)\u001b[0m \u001b[0;32mfrom\u001b[0m \u001b[0;32mNone\u001b[0m\u001b[0;34m\u001b[0m\u001b[0;34m\u001b[0m\u001b[0m\n\u001b[0m\u001b[1;32m   1052\u001b[0m             \u001b[0;32mexcept\u001b[0m \u001b[0mException\u001b[0m\u001b[0;34m:\u001b[0m\u001b[0;34m\u001b[0m\u001b[0;34m\u001b[0m\u001b[0m\n\u001b[1;32m   1053\u001b[0m                 \u001b[0mself\u001b[0m\u001b[0;34m.\u001b[0m\u001b[0mlog\u001b[0m\u001b[0;34m.\u001b[0m\u001b[0mwarning\u001b[0m\u001b[0;34m(\u001b[0m\u001b[0;34m\"Invalid Message:\"\u001b[0m\u001b[0;34m,\u001b[0m \u001b[0mexc_info\u001b[0m\u001b[0;34m=\u001b[0m\u001b[0;32mTrue\u001b[0m\u001b[0;34m)\u001b[0m\u001b[0;34m\u001b[0m\u001b[0;34m\u001b[0m\u001b[0m\n",
      "\u001b[0;31mKeyboardInterrupt\u001b[0m: Interrupted by user"
     ]
    }
   ],
   "source": []
  },
  {
   "cell_type": "markdown",
   "metadata": {},
   "source": [
    "### Exercise 2 - Write a Python class which has two methods get_String and print_String. get_String accept a string from the user and print_String print the string in upper case"
   ]
  },
  {
   "cell_type": "code",
   "execution_count": 37,
   "metadata": {},
   "outputs": [
    {
     "name": "stdout",
     "output_type": "stream",
     "text": [
      "What would you like to say? hello\n",
      "['HELLO']\n"
     ]
    }
   ],
   "source": [
    "class strings():\n",
    "    \n",
    "    def __init__(self, getString = None):\n",
    "        self.getString = []\n",
    "        \n",
    "    def print_string(self):\n",
    "        print(f\"{self.getString}\") \n",
    "        \n",
    "my_string = strings()\n",
    "            \n",
    "def get_string():\n",
    "    new_string = input(\"What would you like to say? \")\n",
    "    if new_string.lower().strip() != 'quit':\n",
    "        new_string = new_string.upper()\n",
    "        my_string.getString.append(new_string)\n",
    "        my_string.print_string()\n",
    "            \n",
    "get_string()\n"
   ]
  },
  {
   "cell_type": "code",
   "execution_count": null,
   "metadata": {},
   "outputs": [],
   "source": []
  },
  {
   "cell_type": "code",
   "execution_count": null,
   "metadata": {},
   "outputs": [],
   "source": []
  }
 ],
 "metadata": {
  "kernelspec": {
   "display_name": "Python 3 (ipykernel)",
   "language": "python",
   "name": "python3"
  },
  "language_info": {
   "codemirror_mode": {
    "name": "ipython",
    "version": 3
   },
   "file_extension": ".py",
   "mimetype": "text/x-python",
   "name": "python",
   "nbconvert_exporter": "python",
   "pygments_lexer": "ipython3",
   "version": "3.9.7"
  }
 },
 "nbformat": 4,
 "nbformat_minor": 2
}
