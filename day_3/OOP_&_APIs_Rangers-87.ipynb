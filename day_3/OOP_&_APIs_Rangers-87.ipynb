{
 "cells": [
  {
   "cell_type": "markdown",
   "metadata": {},
   "source": [
    "# Object Oriented Programming 2 - examples and APIs\n"
   ]
  },
  {
   "cell_type": "markdown",
   "metadata": {},
   "source": [
    "## Tasks Today:\n",
    "\n",
    "   \n",
    "\n",
    "1) <b>Shopping Cart Example</b> <br>\n",
    "2) <b>Requests and the pokemon API </b> <br>\n",
    " "
   ]
  },
  {
   "cell_type": "code",
   "execution_count": 1,
   "metadata": {},
   "outputs": [
    {
     "data": {
      "text/plain": [
       "[2, 3, 4]"
      ]
     },
     "execution_count": 1,
     "metadata": {},
     "output_type": "execute_result"
    }
   ],
   "source": [
    "#whiteboard\n",
    "\n",
    "def compute_intersection(lst, lst2):\n",
    "    return list(set(lst).intersection(lst2))\n",
    "\n",
    "num1 = [4,3,3,2]\n",
    "num2 = [4,2,5,8,3]\n",
    "compute_intersection(num1,num2)\n"
   ]
  },
  {
   "cell_type": "markdown",
   "metadata": {},
   "source": [
    "# Goal \n",
    "### build a shopping cart program with prices and quantities using objects and a dictionary"
   ]
  },
  {
   "cell_type": "code",
   "execution_count": 2,
   "metadata": {},
   "outputs": [],
   "source": [
    "# from IPython.display import clear_output as clear\n",
    "# # Create a class called cart that retains items and has methods to add, remove, and show\n",
    "\n",
    "# class Cart():\n",
    "#     def __init__(self):\n",
    "#         self.items = {}\n",
    "        \n",
    "#     def add(self):\n",
    "#         clear()\n",
    "#         new_item = input('What do you want to get?')\n",
    "#         quantity = int(input(f\"How many {new_item}s do you want?\"))\n",
    "#         if new_item not in self.items:\n",
    "#             self.items[new_item] = quantity\n",
    "#         else:\n",
    "#             self.items[new_item] += quantity\n",
    "#         print(f\"{quantity} {new_item}s have been added to the cart.🛒\")\n",
    "        \n",
    "#     def remove(self):\n",
    "#         clear()\n",
    "#         discard = input(\"What would you like to discard?\")\n",
    "#         quantity = int(input(f\"How many {discard}s would you like to put back?\"))\n",
    "#         if discard in self.items:\n",
    "#             self.items[discard]  -= quantity\n",
    "#             if self.items[discard] <= 0:\n",
    "#                 del self.items[discard]\n",
    "#             print(f\"{quantity} {discard}s have been removed.\")\n",
    "#         else:\n",
    "#             print(f\"{discard} was not in your cart.\")\n",
    "#         #TODO: Create show method\n",
    "#         self.show()\n",
    "        \n",
    "#     def show(self):\n",
    "#         print(\"Your cart contains the items below\")\n",
    "#         print(\"  Item  |  Quantity\")\n",
    "#         for item,quantity in self.items.items():\n",
    "#             print(f\"{item}  | {quantity}\")\n",
    "            \n",
    "#     def checkout(self):\n",
    "#         clear()\n",
    "#         if not self.items:\n",
    "#             print('Please come back and buy things. ')\n",
    "#         else:\n",
    "#             print(\"Thanks for shopping\")\n",
    "#             self.show()\n",
    "            \n",
    "# # Control the logic and flow of our program\n",
    "# class Main:\n",
    "#     def showInstructions(self):\n",
    "#         print(\"\"\"\n",
    "#         Welcome to the Shopping Program!\n",
    "#         Options:\n",
    "#         [1] Show the Current Cart\n",
    "#         [2] Add Item\n",
    "#         [3] Remove Item\n",
    "#         [4] Quit\n",
    "#         \"\"\")\n",
    "        \n",
    "#     def run(self):\n",
    "        \n",
    "#         my_cart = Cart()\n",
    "        \n",
    "#         while True:\n",
    "#             self.showInstructions()\n",
    "#             choice = input(\"What would you like to do?\")\n",
    "#             if choice == '1':\n",
    "#                 if my_cart.items:\n",
    "#                     my_cart.show()\n",
    "#                 else:\n",
    "#                     print('Your Cart is Empty...')\n",
    "#             elif choice == '2':\n",
    "#                 my_cart.add()\n",
    "#             elif choice == '3':\n",
    "#                 if my_cart.items:\n",
    "#                     my_cart.remove()\n",
    "#                 else:\n",
    "#                     print(\"Your cart is empty... How are you going to remove nothing???\")\n",
    "#             elif choice == '4':\n",
    "#                 my_cart.checkout()\n",
    "#                 break\n",
    "#             else:\n",
    "#                 print(\"Invalid Response... Please select an option above.\")\n",
    "                \n",
    "# my_prog = Main()\n",
    "# my_prog.run()"
   ]
  },
  {
   "cell_type": "markdown",
   "metadata": {},
   "source": [
    "# working with APis"
   ]
  },
  {
   "cell_type": "markdown",
   "metadata": {},
   "source": [
    "<p> What exactly is an API? <br> <br>\n",
    "API is the acronym for Application Programming Interface, which is a software intermediary that allows two applications to talk to each other. Each time you use an app like Facebook, send an instant message, or check the weather on your phone, you're using an API. </p>"
   ]
  },
  {
   "cell_type": "markdown",
   "metadata": {},
   "source": [
    "### The Poke API  allows you to retreive a pokemon's information from PokeAPI https://pokeapi.co/\n",
    "\n"
   ]
  },
  {
   "cell_type": "code",
   "execution_count": 20,
   "metadata": {},
   "outputs": [
    {
     "name": "stdout",
     "output_type": "stream",
     "text": [
      "Requirement already satisfied: requests in /Users/tatianakim/opt/anaconda3/lib/python3.9/site-packages (2.26.0)\n",
      "Requirement already satisfied: idna<4,>=2.5 in /Users/tatianakim/opt/anaconda3/lib/python3.9/site-packages (from requests) (3.2)\n",
      "Requirement already satisfied: certifi>=2017.4.17 in /Users/tatianakim/opt/anaconda3/lib/python3.9/site-packages (from requests) (2021.10.8)\n",
      "Requirement already satisfied: urllib3<1.27,>=1.21.1 in /Users/tatianakim/opt/anaconda3/lib/python3.9/site-packages (from requests) (1.26.7)\n",
      "Requirement already satisfied: charset-normalizer~=2.0.0 in /Users/tatianakim/opt/anaconda3/lib/python3.9/site-packages (from requests) (2.0.4)\n",
      "Note: you may need to restart the kernel to use updated packages.\n"
     ]
    }
   ],
   "source": [
    "pip install requests"
   ]
  },
  {
   "cell_type": "code",
   "execution_count": 21,
   "metadata": {},
   "outputs": [
    {
     "name": "stdout",
     "output_type": "stream",
     "text": [
      "dict_keys(['abilities', 'base_experience', 'forms', 'game_indices', 'height', 'held_items', 'id', 'is_default', 'location_area_encounters', 'moves', 'name', 'order', 'past_types', 'species', 'sprites', 'stats', 'types', 'weight'])\n"
     ]
    }
   ],
   "source": [
    "# making an API call\n",
    "import requests\n",
    "\n",
    "r = requests.get(\"https://pokeapi.co/api/v2/pokemon/ditto\") \n",
    "# just for ditto\n",
    "# this link is an endpoint that gives info on diff info\n",
    "\n",
    "if r.status_code == 200:\n",
    "    data = r.json() # converts info \n",
    "else:\n",
    "    print(f\"error status code: {r.status_code}\")\n",
    "    \n",
    "print(data.keys())"
   ]
  },
  {
   "cell_type": "markdown",
   "metadata": {},
   "source": [
    "### Display a Pokemon's name, weight, abilities, and types"
   ]
  },
  {
   "cell_type": "code",
   "execution_count": 22,
   "metadata": {},
   "outputs": [
    {
     "name": "stdout",
     "output_type": "stream",
     "text": [
      "ditto\n"
     ]
    }
   ],
   "source": [
    "# get the name. listed above \n",
    "name = data['name']\n",
    "print(name)"
   ]
  },
  {
   "cell_type": "code",
   "execution_count": 23,
   "metadata": {},
   "outputs": [
    {
     "name": "stdout",
     "output_type": "stream",
     "text": [
      "[{'slot': 1, 'type': {'name': 'normal', 'url': 'https://pokeapi.co/api/v2/type/1/'}}]\n"
     ]
    }
   ],
   "source": [
    "print(data['types'])"
   ]
  },
  {
   "cell_type": "code",
   "execution_count": 24,
   "metadata": {},
   "outputs": [
    {
     "name": "stdout",
     "output_type": "stream",
     "text": [
      "['normal']\n"
     ]
    }
   ],
   "source": [
    "# get types\n",
    "types = [pokemon[\"type\"][\"name\"] for pokemon in data ['types']]\n",
    "print(types)"
   ]
  },
  {
   "cell_type": "code",
   "execution_count": 25,
   "metadata": {},
   "outputs": [
    {
     "name": "stdout",
     "output_type": "stream",
     "text": [
      "40\n"
     ]
    }
   ],
   "source": [
    "# get weight\n",
    "weight = data[\"weight\"]\n",
    "print(weight)"
   ]
  },
  {
   "cell_type": "code",
   "execution_count": 26,
   "metadata": {},
   "outputs": [
    {
     "name": "stdout",
     "output_type": "stream",
     "text": [
      "['limber', 'imposter']\n"
     ]
    }
   ],
   "source": [
    "# get abilities\n",
    "abilities = [pokemon[\"ability\"][\"name\"] for pokemon in data ['abilities']]\n",
    "print(abilities)"
   ]
  },
  {
   "cell_type": "code",
   "execution_count": 27,
   "metadata": {},
   "outputs": [],
   "source": [
    "# Create a structure for a single pokemon\n",
    "first_pokemon = {\n",
    "    'name': \"\",\n",
    "    'abilities': [], \n",
    "    'weight': 0,\n",
    "    'types': [],\n",
    "}\n",
    "\n"
   ]
  },
  {
   "cell_type": "code",
   "execution_count": 28,
   "metadata": {},
   "outputs": [
    {
     "data": {
      "text/plain": [
       "{'name': 'ditto',\n",
       " 'abilities': ['limber', 'imposter'],\n",
       " 'weight': 40,\n",
       " 'types': ['normal']}"
      ]
     },
     "execution_count": 28,
     "metadata": {},
     "output_type": "execute_result"
    }
   ],
   "source": [
    "ditto = {\n",
    "    'name' : name, \n",
    "    'abilities': abilities,\n",
    "    'weight': weight,\n",
    "    'types': types,\n",
    "}\n",
    "\n",
    "ditto\n"
   ]
  },
  {
   "cell_type": "markdown",
   "metadata": {},
   "source": [
    "#### Create a function to Pull in your own Pokemon's data "
   ]
  },
  {
   "cell_type": "code",
   "execution_count": 29,
   "metadata": {},
   "outputs": [
    {
     "data": {
      "text/plain": [
       "{'name': 'bulbasaur',\n",
       " 'abilities': ['overgrow', 'chlorophyll'],\n",
       " 'weight': 69,\n",
       " 'types': ['grass', 'poison']}"
      ]
     },
     "execution_count": 29,
     "metadata": {},
     "output_type": "execute_result"
    }
   ],
   "source": [
    "import requests\n",
    "def poke_api_call(pokemon_name_or_id):\n",
    "    r = requests.get(f\"https://pokeapi.co/api/v2/pokemon/{(pokemon_name_or_id)}\")\n",
    "    \n",
    "    if r.status_code == 200:\n",
    "        data = r.json()\n",
    "        \n",
    "        name = data['name']\n",
    "        types = [pokemon['type']['name'] for pokemon in data['types']]\n",
    "        abilities = [pokemon['ability']['name'] for pokemon in data['abilities']]\n",
    "        weight = data['weight']\n",
    "        \n",
    "        pokemon_x = {\n",
    "            'name' : name, \n",
    "            'abilities': abilities,\n",
    "            'weight': weight,\n",
    "            'types': types,\n",
    "        }\n",
    "        return pokemon_x\n",
    "    else: \n",
    "        print(f\"Error Status Code: {r.status_code}\")\n",
    "        \n",
    "squirtle = poke_api_call(\"squirtle\")\n",
    "bulbasaur = poke_api_call(1)\n",
    "bulbasaur\n"
   ]
  },
  {
   "cell_type": "markdown",
   "metadata": {},
   "source": [
    "Choose your pokemon"
   ]
  },
  {
   "cell_type": "code",
   "execution_count": 30,
   "metadata": {},
   "outputs": [],
   "source": [
    "from random import randint\n",
    "# Random number generated for each pokemon id\n",
    "random_team = [randint(1,898) for i in range(6)]\n",
    "\n",
    "your_team = ['electabuzz', 'haunter','tyranitar','blaziken','marowak','dragonair']\n",
    "\n",
    "\n"
   ]
  },
  {
   "cell_type": "markdown",
   "metadata": {},
   "source": [
    "#### Use your function to create a dictionary of your Johto League 6  (favorite 6 pokemon)"
   ]
  },
  {
   "cell_type": "code",
   "execution_count": 31,
   "metadata": {},
   "outputs": [
    {
     "data": {
      "text/plain": [
       "{'Cherubi': {'name': 'cherubi',\n",
       "  'abilities': ['chlorophyll'],\n",
       "  'weight': 33,\n",
       "  'types': ['grass']},\n",
       " 'Mienfoo': {'name': 'mienfoo',\n",
       "  'abilities': ['inner-focus', 'regenerator', 'reckless'],\n",
       "  'weight': 200,\n",
       "  'types': ['fighting']},\n",
       " 'Xatu': {'name': 'xatu',\n",
       "  'abilities': ['synchronize', 'early-bird', 'magic-bounce'],\n",
       "  'weight': 150,\n",
       "  'types': ['psychic', 'flying']},\n",
       " 'Magearna': {'name': 'magearna',\n",
       "  'abilities': ['soul-heart'],\n",
       "  'weight': 805,\n",
       "  'types': ['steel', 'fairy']},\n",
       " 'Maractus': {'name': 'maractus',\n",
       "  'abilities': ['water-absorb', 'chlorophyll', 'storm-drain'],\n",
       "  'weight': 280,\n",
       "  'types': ['grass']},\n",
       " 'Brionne': {'name': 'brionne',\n",
       "  'abilities': ['torrent', 'liquid-voice'],\n",
       "  'weight': 175,\n",
       "  'types': ['water']}}"
      ]
     },
     "execution_count": 31,
     "metadata": {},
     "output_type": "execute_result"
    }
   ],
   "source": [
    "# Place all 6 of your pokemon on the object below, each pokemon should have at least as much info as Pikachu did.\n",
    "my_six_pokemon = {}\n",
    "\n",
    "for member in random_team:\n",
    "    poke_stats = poke_api_call(member)\n",
    "    my_six_pokemon[poke_stats['name'].title()] = poke_stats\n",
    "\n",
    "my_six_pokemon\n"
   ]
  },
  {
   "cell_type": "markdown",
   "metadata": {},
   "source": [
    "## Lets create a class called 'Pokemon' and create our pokemon as instances"
   ]
  },
  {
   "cell_type": "code",
   "execution_count": 32,
   "metadata": {},
   "outputs": [],
   "source": [
    "class Pokemon():\n",
    "    def __init__(self, name):\n",
    "        self.name = name\n",
    "        self.types = []\n",
    "        self.abilities = []\n",
    "        self.weight = 0\n",
    "        self.poke_api_call() # gets called at the end of the instanciated pokemon\n",
    "    \n",
    "    def poke_api_call(self):\n",
    "        r = requests.get(f\"https://pokeapi.co/api/v2/pokemon/{(self.name)}\")\n",
    "    \n",
    "        if r.status_code == 200:\n",
    "            data = r.json()\n",
    "\n",
    "            self.name = data['name']\n",
    "            self.types = [pokemon['type']['name'] for pokemon in data['types']]\n",
    "            self.abilities = [pokemon['ability']['name'] for pokemon in data['abilities']]\n",
    "            self.weight = data['weight']\n",
    "\n",
    "        else: \n",
    "            print(f\"Error Status Code: {r.status_code}\")\n",
    "            \n",
    "    # What happens when you print\n",
    "    def __repr__(self):\n",
    "        return f\"You caught a {self.name}!\""
   ]
  },
  {
   "cell_type": "markdown",
   "metadata": {},
   "source": [
    "### Let's Catch some Pokemon"
   ]
  },
  {
   "cell_type": "code",
   "execution_count": 33,
   "metadata": {},
   "outputs": [
    {
     "name": "stdout",
     "output_type": "stream",
     "text": [
      "You caught a pikachu!\n",
      "<class '__main__.Pokemon'>\n",
      "{'name': 'pikachu', 'types': ['electric'], 'abilities': ['static', 'lightning-rod'], 'weight': 60}\n"
     ]
    }
   ],
   "source": [
    "pikachu = Pokemon('pikachu')\n",
    "print(pikachu)\n",
    "print(type(pikachu))\n",
    "print(pikachu.__dict__)  # gives a dictionary of all the at"
   ]
  },
  {
   "cell_type": "code",
   "execution_count": 34,
   "metadata": {},
   "outputs": [
    {
     "data": {
      "text/plain": [
       "{'Electabuzz': You caught a electabuzz!,\n",
       " 'Haunter': You caught a haunter!,\n",
       " 'Tyranitar': You caught a tyranitar!,\n",
       " 'Blaziken': You caught a blaziken!,\n",
       " 'Marowak': You caught a marowak!,\n",
       " 'Dragonair': You caught a dragonair!}"
      ]
     },
     "execution_count": 34,
     "metadata": {},
     "output_type": "execute_result"
    }
   ],
   "source": [
    "pokedex = {} \n",
    "for member in your_team:\n",
    "    pokeball = Pokemon(member)\n",
    "    pokedex[member.title()] = pokeball\n",
    "    \n",
    "pokedex\n"
   ]
  },
  {
   "cell_type": "markdown",
   "metadata": {},
   "source": [
    "## Exercise 1:"
   ]
  },
  {
   "cell_type": "markdown",
   "metadata": {},
   "source": [
    "### Create a Method prints an image of your pokemon\n",
    "\n",
    "<p>HINT: You may need another attribute as well to store your image url within. </p>"
   ]
  },
  {
   "cell_type": "code",
   "execution_count": 35,
   "metadata": {},
   "outputs": [],
   "source": [
    "# Display an image in Jupyter notebook\n",
    "from IPython.display import Image\n",
    "\n",
    "#display(Image( 'https://i.redd.it/45n4mhusa8l41.jpg', width = 300))\n",
    "#except get the pokemon image. search through that pokemon documentation, get image link, and put that in as an \n",
    "# attribute and then use that attribute to display\n"
   ]
  },
  {
   "cell_type": "code",
   "execution_count": 39,
   "metadata": {},
   "outputs": [],
   "source": [
    "# # recreate your pokemon class here\n",
    "# class Pokemon(Move_Tutor):\n",
    "\n",
    "\n",
    "class Pokemon(Move_Tutor):\n",
    "    def __init__(self, name):\n",
    "        super().__init__()\n",
    "        self.name = name\n",
    "        self.types = []\n",
    "        self.abilities = []\n",
    "        self.weight = 0\n",
    "        self.poke_api_call() # gets called at the end of the instanciated pokemon\n",
    "    \n",
    "    def poke_api_call(self):\n",
    "        r = requests.get(f\"https://pokeapi.co/api/v2/pokemon/{self.name}\")\n",
    "        if r.status_code == 200:\n",
    "            data = r.json()\n",
    "\n",
    "            self.name = data['name']\n",
    "            self.types = [pokemon['type']['name'] for pokemon in data['types']]\n",
    "            self.abilities = [pokemon['ability']['name'] for pokemon in data['abilities']]\n",
    "            self.weight = data['weight']\n",
    "            self.image = data['sprites']['other']['official-artwork']['front_default']\n",
    "\n",
    "        else: \n",
    "            print(f\"Error Status Code: {r.status_code}\")\n",
    "            \n",
    "    def pokemon_pic(self):\n",
    "        display(Image(self.image))\n",
    "        \n",
    "        \n",
    "    # What happens when you print\n",
    "    def __repr__(self):\n",
    "        return f\"You caught a {self.name}!\" \n",
    "    \n",
    "    \n",
    "\n",
    "    def __init__(self, name):\n",
    "        super().__init__()\n",
    "        self.name = name\n",
    "        self.types = []\n",
    "        self.abilities = []\n",
    "        self.weight = 0\n",
    "        self.poke_api_call() # gets called at the end of the instanciated pokemon\n",
    "    \n",
    "    def poke_api_call(self):\n",
    "        r = requests.get(f\"https://pokeapi.co/api/v2/pokemon/{self.name}\")\n",
    "        if r.status_code == 200:\n",
    "            data = r.json()\n",
    "\n",
    "            self.name = data['name']\n",
    "            self.types = [pokemon['type']['name'] for pokemon in data['types']]\n",
    "            self.abilities = [pokemon['ability']['name'] for pokemon in data['abilities']]\n",
    "            self.weight = data['weight']\n",
    "            self.image = data['sprites']['other']['official-artwork']['front_default']\n",
    "\n",
    "        else: \n",
    "            print(f\"Error Status Code: {r.status_code}\")\n",
    "            \n",
    "    def pokemon_pic(self):\n",
    "        display(Image(self.image))\n",
    "        \n",
    "        \n",
    "    # What happens when you print\n",
    "    def __repr__(self):\n",
    "        return f\"You caught a {self.name}!\" \n",
    "    \n",
    "    "
   ]
  },
  {
   "cell_type": "code",
   "execution_count": null,
   "metadata": {
    "scrolled": true
   },
   "outputs": [],
   "source": []
  },
  {
   "cell_type": "markdown",
   "metadata": {},
   "source": []
  },
  {
   "cell_type": "code",
   "execution_count": null,
   "metadata": {},
   "outputs": [],
   "source": [
    "# Calling our new method\n"
   ]
  },
  {
   "cell_type": "markdown",
   "metadata": {},
   "source": [
    "## Exercise 2:"
   ]
  },
  {
   "cell_type": "markdown",
   "metadata": {},
   "source": [
    "### Create a Method that evolves your Pokemon\n",
    "If your pokemon can't evolve any further print a message that says \"\\<name of pokemon> can't evolve.\""
   ]
  },
  {
   "cell_type": "code",
   "execution_count": 37,
   "metadata": {},
   "outputs": [],
   "source": [
    "# Mixins\n",
    "\n",
    "from time import sleep\n",
    "\n",
    "class Evolver:\n",
    "    \n",
    "    def evolve(self):\n",
    "        # API call to pokemon-species endpoint\n",
    "        r = requests.get(f'https://pokeapi.co/api/v2/pokemon-species/{self.name}')\n",
    "        if r.status_code != 200:\n",
    "            print(f\"Species Status : {r.status_code}\")\n",
    "            return\n",
    "        else:\n",
    "            pokemon_species = r.json()\n",
    "            \n",
    "        r2 = requests.get(pokemon_species['evolution_chain']['url'])\n",
    "        if r2.status_code != 200:\n",
    "            print(f\"Evolution Chain Error : {r2.status_code}\")\n",
    "            return\n",
    "        else:\n",
    "            ev_chain = r2.json()\n",
    "            ev_chain = ev_chain['chain']\n",
    "            \n",
    "        #First Evolution    \n",
    "        base_name = ev_chain['species']['name']\n",
    "            \n",
    "        evolution = ev_chain[\"evolves_to\"][0]\n",
    "        \n",
    "        #form 2\n",
    "        evolution_name = evolution['species']['name']\n",
    "            \n",
    "        if base_name == self.name:\n",
    "            pass\n",
    "        elif evolution_name == self.name:\n",
    "            evolution_name = evolution['evolves_to'][0]['species']['name']\n",
    "        else:\n",
    "            print(f\"You can't evolve your {self.name} anymore.\")\n",
    "            return\n",
    "        \n",
    "        print(\"......\")\n",
    "        sleep(1)\n",
    "        print(f\"Your {self.name} is evolving?!\")\n",
    "        self.pokemon_pic()\n",
    "        sleep(1)\n",
    "        print(\".........\")\n",
    "        self.name = evolution_name\n",
    "        self.poke_api_call()\n",
    "        self.pokemon_pic()\n",
    "            "
   ]
  },
  {
   "cell_type": "code",
   "execution_count": null,
   "metadata": {},
   "outputs": [],
   "source": []
  },
  {
   "cell_type": "markdown",
   "metadata": {},
   "source": [
    "Now let's evolve a few"
   ]
  },
  {
   "cell_type": "markdown",
   "metadata": {},
   "source": [
    "#  Final Exercise: <br> <br>Create a Move_Tutor Class that will allow the Pokemon Class to inherit a move list.\n",
    "<br>\n",
    "<p>for an added bonus you can make sure that if a pokemon has 4 moves the user can choose one of them to replace with a new move. </p>"
   ]
  },
  {
   "cell_type": "code",
   "execution_count": 40,
   "metadata": {},
   "outputs": [],
   "source": [
    "# # objective is to create a list with 4 moves for that one pokemon\n",
    "# # the move itself can be its own class. \n",
    "# # type a move to add to the list (to teach the pokemon). that you can now have pokemon perform. \n",
    "# # when you print the move_list, you get a list of info of power, what happens with that move.\n",
    "\n",
    "\n",
    "class Move_Tutor:\n",
    "    \n",
    "    def __init__(self):\n",
    "        self.moves_dict = {}\n",
    "        \n",
    "        \n",
    "    \n",
    "    def pokemon_moves(self):\n",
    "        pick_move = input(f\"What move would you like to teach {self.name}? \")\n",
    "        \n",
    "        r = requests.get(f'https://pokeapi.co/api/v2/move/{pick_move}/')\n",
    "        if r.status_code != 200:\n",
    "            print(f\"error status : {r.status_code}\")\n",
    "            return\n",
    "        else:\n",
    "            pokes_moves = r.json()\n",
    "            move_description = pokes_moves['flavor_text_entries'][0]['flavor_text']\n",
    "            \n",
    "            if pick_move in self.moves_dict:\n",
    "                print(f\"{self.name} already knows that move!\")\n",
    "            elif len(self.moves_dict) == 4: \n",
    "                print(f\"{self.name} cannot learn any more moves! choose option 3 to replace a move.\")\n",
    "            elif len(self.moves_dict) < 4:\n",
    "                print(f\"{self.name} learned {pick_move}!\")\n",
    "                self.moves_dict[pick_move] = move_description\n",
    "   \n",
    "        \n",
    "    def learn_new(self):        \n",
    "        replace = input(f\"Would you like to replace a move? y/n \\n{self.moves_dict}: \")\n",
    "        if replace == 'n':\n",
    "            pass\n",
    "        elif replace == 'y':\n",
    "            take_out = input(f\"\\nWhich move would you like to take out/replace? \\n{self.moves_dict}\")\n",
    "        \n",
    "        r = requests.get(f'https://pokeapi.co/api/v2/move/{take_out}/')\n",
    "        if r.status_code != 200:\n",
    "            print(f\"error status : {r.status_code}\")\n",
    "            return\n",
    "        else:\n",
    "            pokes_moves = r.json()\n",
    "            move_description = pokes_moves['flavor_text_entries'][0]['flavor_text']\n",
    "        \n",
    "        \n",
    "        del self.moves_dict[take_out]\n",
    "        pick_move = input(f\"What new move would you like to teach {self.name} instead? \")\n",
    "        self.moves_dict[pick_move] = move_description\n",
    "        print(f\"\\nCongrats! {self.name} has now learned {pick_move}! \\n{self.moves_dict}\")\n",
    "    \n",
    "    def show_moves(self):    \n",
    "        if self.moves_dict:\n",
    "            print(list(self.moves_dict))\n",
    "        if not self.moves_dict:\n",
    "            print(f\"We need to teach {self.name} some moves!\")\n",
    "        return\n",
    "            \n",
    "    \n",
    "    def teach_move(self):    \n",
    "        while True:\n",
    "            command = input(\"\"\"\n",
    "            What would you like to do? \n",
    "            [1] Teach moves\n",
    "            [2] Show moves\n",
    "            [3] Replace move\n",
    "            \"\"\")\n",
    "            if command == '1':\n",
    "                self.pokemon_moves()\n",
    "            elif command == '2':\n",
    "                self.show_moves()\n",
    "            elif command == '3':\n",
    "                self.learn_new()\n",
    "            else:\n",
    "                return f\"Please type in a valid entry: \"\n",
    "\n",
    "\n",
    "\n",
    "\n",
    "        "
   ]
  },
  {
   "cell_type": "code",
   "execution_count": null,
   "metadata": {},
   "outputs": [
    {
     "name": "stdout",
     "output_type": "stream",
     "text": [
      "\n",
      "            What would you like to do? \n",
      "            [1] Teach moves\n",
      "            [2] Show moves\n",
      "            [3] Replace move\n",
      "            1\n",
      "What move would you like to teach pikachu? mega-punch\n",
      "pikachu learned mega-punch!\n",
      "\n",
      "            What would you like to do? \n",
      "            [1] Teach moves\n",
      "            [2] Show moves\n",
      "            [3] Replace move\n",
      "            1\n",
      "What move would you like to teach pikachu? mega-kick\n",
      "pikachu learned mega-kick!\n",
      "\n",
      "            What would you like to do? \n",
      "            [1] Teach moves\n",
      "            [2] Show moves\n",
      "            [3] Replace move\n",
      "            1\n",
      "What move would you like to teach pikachu? thunder\n",
      "pikachu learned thunder!\n",
      "\n",
      "            What would you like to do? \n",
      "            [1] Teach moves\n",
      "            [2] Show moves\n",
      "            [3] Replace move\n",
      "            1\n",
      "What move would you like to teach pikachu? pound\n",
      "pikachu learned pound!\n",
      "\n",
      "            What would you like to do? \n",
      "            [1] Teach moves\n",
      "            [2] Show moves\n",
      "            [3] Replace move\n",
      "            1\n",
      "What move would you like to teach pikachu? double-slap\n",
      "pikachu cannot learn any more moves! choose option 3 to replace a move.\n",
      "\n",
      "            What would you like to do? \n",
      "            [1] Teach moves\n",
      "            [2] Show moves\n",
      "            [3] Replace move\n",
      "            3\n",
      "Would you like to replace a move? y/n \n",
      "{'mega-punch': 'A powerful punch\\nthrown very hard.', 'mega-kick': 'A powerful kicking\\nattack.', 'thunder': 'An attack that may\\ncause paralysis.', 'pound': 'Pounds with fore\\xad\\nlegs or tail.'}: y\n",
      "\n",
      "Which move would you like to take out/replace? \n",
      "{'mega-punch': 'A powerful punch\\nthrown very hard.', 'mega-kick': 'A powerful kicking\\nattack.', 'thunder': 'An attack that may\\ncause paralysis.', 'pound': 'Pounds with fore\\xad\\nlegs or tail.'}pound\n",
      "What new move would you like to teach pikachu instead? double-slap\n",
      "\n",
      "Congrats! pikachu has now learned double-slap! \n",
      "{'mega-punch': 'A powerful punch\\nthrown very hard.', 'mega-kick': 'A powerful kicking\\nattack.', 'thunder': 'An attack that may\\ncause paralysis.', 'double-slap': 'Pounds with fore\\xad\\nlegs or tail.'}\n",
      "\n",
      "            What would you like to do? \n",
      "            [1] Teach moves\n",
      "            [2] Show moves\n",
      "            [3] Replace move\n",
      "            2\n",
      "['mega-punch', 'mega-kick', 'thunder', 'double-slap']\n"
     ]
    }
   ],
   "source": [
    "pikachu = Pokemon('pikachu')\n",
    "pikachu.teach_move()"
   ]
  },
  {
   "cell_type": "markdown",
   "metadata": {},
   "source": []
  },
  {
   "cell_type": "markdown",
   "metadata": {},
   "source": []
  },
  {
   "cell_type": "code",
   "execution_count": null,
   "metadata": {},
   "outputs": [],
   "source": []
  },
  {
   "cell_type": "code",
   "execution_count": null,
   "metadata": {},
   "outputs": [],
   "source": []
  }
 ],
 "metadata": {
  "kernelspec": {
   "display_name": "Python 3 (ipykernel)",
   "language": "python",
   "name": "python3"
  },
  "language_info": {
   "codemirror_mode": {
    "name": "ipython",
    "version": 3
   },
   "file_extension": ".py",
   "mimetype": "text/x-python",
   "name": "python",
   "nbconvert_exporter": "python",
   "pygments_lexer": "ipython3",
   "version": "3.9.7"
  }
 },
 "nbformat": 4,
 "nbformat_minor": 4
}
